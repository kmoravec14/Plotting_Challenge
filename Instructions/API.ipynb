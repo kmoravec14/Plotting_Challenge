{
 "cells": [
  {
   "cell_type": "markdown",
   "id": "cd6b1d45-4a0f-4509-8065-14ef717e655d",
   "metadata": {},
   "source": [
    "# Dependencies"
   ]
  },
  {
   "cell_type": "code",
   "execution_count": null,
   "id": "103abd80-ecc1-4a6a-94be-19439366dbe9",
   "metadata": {
    "tags": []
   },
   "outputs": [],
   "source": [
    "# Dependencies\n",
    "import requests\n",
    "import json\n",
    "from pprint import pprint"
   ]
  },
  {
   "cell_type": "code",
   "execution_count": null,
   "id": "ab17459b-55dd-47d8-92fc-2dc15c6092f8",
   "metadata": {},
   "outputs": [],
   "source": []
  },
  {
   "cell_type": "markdown",
   "id": "37c96fa3-d631-48cb-97c4-c5d039dd6dd4",
   "metadata": {},
   "source": [
    "# Get and Response"
   ]
  },
  {
   "cell_type": "code",
   "execution_count": null,
   "id": "a9bbe7eb-274a-4b50-af8e-6ea118dba6d8",
   "metadata": {},
   "outputs": [],
   "source": [
    " Performing a GET Request and saving the \n",
    "# API's response within a variable\n",
    "url = \"https://api.spacexdata.com/v2/rockets/falcon9\"\n",
    "response = requests.get(url)\n",
    "response_json = response.json()\n",
    "print(json.dumps(response_json, indent=4, sort_keys=True))\n",
    "\n",
    "# response_json is a dictionary"
   ]
  },
  {
   "cell_type": "code",
   "execution_count": null,
   "id": "9d3f17fa-9d4a-4b5a-a834-833d9ad33809",
   "metadata": {},
   "outputs": [],
   "source": []
  },
  {
   "cell_type": "markdown",
   "id": "acda196e-f478-49ed-a6c7-05e0f724564a",
   "metadata": {},
   "source": [
    "# Query Specific Data in JSON object"
   ]
  },
  {
   "cell_type": "code",
   "execution_count": null,
   "id": "12ef3535-f4ff-42e7-b5ed-7dd2a4e72e8c",
   "metadata": {},
   "outputs": [],
   "source": [
    "# Returns list of  key words from (response_json)\n",
    "response_json.keys()"
   ]
  },
  {
   "cell_type": "code",
   "execution_count": null,
   "id": "7306eff4-e75b-46e1-b951-82aba83e1977",
   "metadata": {
    "tags": []
   },
   "outputs": [],
   "source": [
    "# It is possible to grab a specific value \n",
    "# from within the JSON object\n",
    "print(response_json[\"cost_per_launch\"])"
   ]
  },
  {
   "cell_type": "code",
   "execution_count": null,
   "id": "c32b7fd0-62f7-4946-82bb-a33dafd97b81",
   "metadata": {},
   "outputs": [],
   "source": [
    "# It is also possible to perform some\n",
    "# analyses on values stored within the JSON object\n",
    "number_payloads = len(response_json[\"payload_weights\"])\n",
    "print(f\"There are {number_payloads} payloads.\")"
   ]
  },
  {
   "cell_type": "code",
   "execution_count": null,
   "id": "bbc9fa4a-bdc7-40be-95e1-f252a7a947ef",
   "metadata": {},
   "outputs": [],
   "source": [
    "response_json[\"payload_weights\"][0][\"kg\"]  # Need to review the syntax on this one"
   ]
  },
  {
   "cell_type": "code",
   "execution_count": null,
   "id": "fa748de1-55c9-4950-81c5-74c1857d2e43",
   "metadata": {
    "tags": []
   },
   "outputs": [],
   "source": [
    "# loop through response.json() and output list of names\n",
    "response = requests.get(base_url)\n",
    "results=response.json()['results']  # results is a list of dictionaries - a bunch of paired items and values\n",
    "[i['name']for i in results]  # Reference Stu Far Far Away"
   ]
  },
  {
   "cell_type": "code",
   "execution_count": null,
   "id": "c09e1b55-a0be-48ce-87b9-d4482f4e4f31",
   "metadata": {},
   "outputs": [],
   "source": [
    "# Print a few keys from the response JSON.  Reference OMDb in class\n",
    "print(f\"Movie was directed by {data['Director']}.\")\n",
    "print(f\"Movie was released in {data['Country']}.\")"
   ]
  },
  {
   "cell_type": "markdown",
   "id": "82c881bd-7467-4da4-a7de-029348283589",
   "metadata": {},
   "source": [
    "# Looping Through API"
   ]
  },
  {
   "cell_type": "code",
   "execution_count": null,
   "id": "4e454870-06c4-4927-8b78-7e2b309650c0",
   "metadata": {},
   "outputs": [],
   "source": []
  },
  {
   "cell_type": "code",
   "execution_count": null,
   "id": "6cdd0932-cd46-49b5-8577-a59cbd4f2088",
   "metadata": {},
   "outputs": [],
   "source": []
  },
  {
   "cell_type": "markdown",
   "id": "7212a750-6fa4-4f68-9a44-694bbe618f34",
   "metadata": {},
   "source": [
    "# API Keys"
   ]
  },
  {
   "cell_type": "code",
   "execution_count": null,
   "id": "8ac3eb31-8480-41a7-9a4d-418d16c554d9",
   "metadata": {
    "tags": []
   },
   "outputs": [],
   "source": [
    "from config import api_key"
   ]
  },
  {
   "cell_type": "code",
   "execution_count": null,
   "id": "1d0912be-dd9f-4cb6-920a-6ac87d8e0ad6",
   "metadata": {},
   "outputs": [],
   "source": [
    "api_key = \"76d95646\"  # api key for OMDb API"
   ]
  },
  {
   "cell_type": "code",
   "execution_count": null,
   "id": "f85fa0bc-3e86-4b0f-ae0f-5d68619b3862",
   "metadata": {},
   "outputs": [],
   "source": [
    "api_key = \"BJyjm4ZGz5OCTXluupbzGaxx46n2ov7v\"  # api key for NYT"
   ]
  },
  {
   "cell_type": "markdown",
   "id": "47abc786-784f-49a2-818f-324fe1421365",
   "metadata": {},
   "source": [
    "# OMDb API"
   ]
  },
  {
   "cell_type": "code",
   "execution_count": null,
   "id": "5ade205f-78d5-4c8d-8b16-5c37ad45f644",
   "metadata": {
    "tags": []
   },
   "outputs": [],
   "source": [
    "title = \"Aliens\"\n",
    "url = f\"http://www.omdbapi.com/?t={title}&apikey={api_key}\""
   ]
  },
  {
   "cell_type": "markdown",
   "id": "b880671f-eedc-4bb2-a5fe-039ad654b8c3",
   "metadata": {},
   "source": [
    "# Storying JSON response within a variable"
   ]
  },
  {
   "cell_type": "code",
   "execution_count": null,
   "id": "523a354e-1786-4f45-a969-536e0aa92fa7",
   "metadata": {},
   "outputs": [],
   "source": [
    "# Storing the JSON response within a variable\n",
    "data = response.json()\n",
    "\n",
    "print(json.dumps(data, indent=4, sort_keys=True))\n",
    "\n",
    "# Alternatively\n",
    "# pprint(data)"
   ]
  },
  {
   "cell_type": "code",
   "execution_count": null,
   "id": "12c821e1-f0dc-462b-8051-41088b46f716",
   "metadata": {},
   "outputs": [],
   "source": []
  },
  {
   "cell_type": "code",
   "execution_count": null,
   "id": "0faab67e-4260-45a4-966a-775b8673b462",
   "metadata": {},
   "outputs": [],
   "source": []
  }
 ],
 "metadata": {
  "kernelspec": {
   "display_name": "Python 3.8.8 64-bit ('base': conda)",
   "language": "python",
   "name": "python388jvsc74a57bd0b28d7ec9d30ab9bab6a8b79114302bcbf8bf1fc0bd5ad4bfab7916f5701b4f09"
  },
  "language_info": {
   "codemirror_mode": {
    "name": "ipython",
    "version": 3
   },
   "file_extension": ".py",
   "mimetype": "text/x-python",
   "name": "python",
   "nbconvert_exporter": "python",
   "pygments_lexer": "ipython3",
   "version": "3.8.8"
  }
 },
 "nbformat": 4,
 "nbformat_minor": 5
}
