{
 "cells": [
  {
   "cell_type": "markdown",
   "id": "55d770ee-553e-4a93-b4a0-5324dcbb7d26",
   "metadata": {
    "tags": []
   },
   "source": [
    "# Matplot lib dependencies"
   ]
  },
  {
   "cell_type": "code",
   "execution_count": null,
   "id": "114015b0-9fc3-4e4b-9b7d-4b3eb1028ce1",
   "metadata": {},
   "outputs": [],
   "source": [
    "# Dependencies\n",
    "# %matplotlib notebook inline # Use if using jupyter notebook\n",
    "%matplotlib inline\n",
    "import matplotlib.pyplot as plt\n",
    "import numpy as np"
   ]
  },
  {
   "cell_type": "code",
   "execution_count": null,
   "id": "7baa111d-0bf3-417c-beac-a30938d46834",
   "metadata": {},
   "outputs": [],
   "source": [
    "# Creating axis data with np.array and list comprehension\n",
    "\n",
    "x_axis = np.arrange(1,13,1)  # Will give list of points from 1 to 12\n",
    "points_C = [(x-32)*0.56 for x in points]  # List comprehension"
   ]
  }
 ],
 "metadata": {
  "kernelspec": {
   "display_name": "Python 3.8.8 64-bit ('base': conda)",
   "language": "python",
   "name": "python388jvsc74a57bd0b28d7ec9d30ab9bab6a8b79114302bcbf8bf1fc0bd5ad4bfab7916f5701b4f09"
  },
  "language_info": {
   "codemirror_mode": {
    "name": "ipython",
    "version": 3
   },
   "file_extension": ".py",
   "mimetype": "text/x-python",
   "name": "python",
   "nbconvert_exporter": "python",
   "pygments_lexer": "ipython3",
   "version": "3.8.8"
  }
 },
 "nbformat": 4,
 "nbformat_minor": 5
}
